{
 "cells": [
  {
   "cell_type": "markdown",
   "id": "630eacfa",
   "metadata": {},
   "source": [
    "# 4.10 Coding Etiquette & Excel Reporting\n",
    "\n",
    "## This script contains the following points:\n",
    "\n",
    "      1. Part 1.1 Import datasets\n",
    "      2. Part 1.2 Address PII data\n",
    "      3. Part 1.3 Create regional segmentation\n",
    "      4. Part 1.4 Create exclusion flag for low activity customers\n",
    "      5. Part 1.5 Create customer profiles based on age, income, number of dependents, and family status"
   ]
  },
  {
   "cell_type": "code",
   "execution_count": 1,
   "id": "e854c30c",
   "metadata": {},
   "outputs": [],
   "source": [
    "# import libraries\n",
    "import pandas as pd\n",
    "import numpy as np\n",
    "import os\n",
    "import matplotlib.pyplot as plt\n",
    "import seaborn as sns\n",
    "import scipy"
   ]
  },
  {
   "cell_type": "code",
   "execution_count": 2,
   "id": "081ac6c1",
   "metadata": {},
   "outputs": [],
   "source": [
    "# create path shortcut for data import\n",
    "path = r'/Users/sydneyhoy/Documents/Data Immersion/Achievement 4/02-2024 Instacart Basket Analysis'"
   ]
  },
  {
   "cell_type": "markdown",
   "id": "f5f70a93",
   "metadata": {},
   "source": [
    "## Part 1.1 Import datasets"
   ]
  },
  {
   "cell_type": "code",
   "execution_count": 3,
   "id": "e424f3e7",
   "metadata": {},
   "outputs": [],
   "source": [
    "# import dataset customers_merged dataset\n",
    "customers_merged = pd.read_pickle(os.path.join(path, '02 Data', 'Prepared Data', 'customers_merged.pkl'))"
   ]
  },
  {
   "cell_type": "code",
   "execution_count": 4,
   "id": "bc3ddf11",
   "metadata": {},
   "outputs": [
    {
     "data": {
      "text/plain": [
       "(30328763, 32)"
      ]
     },
     "execution_count": 4,
     "metadata": {},
     "output_type": "execute_result"
    }
   ],
   "source": [
    "# check shape of dataset\n",
    "customers_merged.shape"
   ]
  },
  {
   "cell_type": "code",
   "execution_count": 5,
   "id": "4f74a4f8",
   "metadata": {},
   "outputs": [
    {
     "data": {
      "text/html": [
       "<div>\n",
       "<style scoped>\n",
       "    .dataframe tbody tr th:only-of-type {\n",
       "        vertical-align: middle;\n",
       "    }\n",
       "\n",
       "    .dataframe tbody tr th {\n",
       "        vertical-align: top;\n",
       "    }\n",
       "\n",
       "    .dataframe thead th {\n",
       "        text-align: right;\n",
       "    }\n",
       "</style>\n",
       "<table border=\"1\" class=\"dataframe\">\n",
       "  <thead>\n",
       "    <tr style=\"text-align: right;\">\n",
       "      <th></th>\n",
       "      <th>order_id</th>\n",
       "      <th>user_id</th>\n",
       "      <th>order_number</th>\n",
       "      <th>orders_day_of_week</th>\n",
       "      <th>order_hour_of_day</th>\n",
       "      <th>days_since_prior_order</th>\n",
       "      <th>product_id</th>\n",
       "      <th>add_to_cart_order</th>\n",
       "      <th>reordered</th>\n",
       "      <th>product_name</th>\n",
       "      <th>...</th>\n",
       "      <th>First Name</th>\n",
       "      <th>Last Name</th>\n",
       "      <th>Gender</th>\n",
       "      <th>State</th>\n",
       "      <th>Age</th>\n",
       "      <th>date_joined</th>\n",
       "      <th>n_dependants</th>\n",
       "      <th>fam_status</th>\n",
       "      <th>income</th>\n",
       "      <th>_merge</th>\n",
       "    </tr>\n",
       "  </thead>\n",
       "  <tbody>\n",
       "    <tr>\n",
       "      <th>0</th>\n",
       "      <td>2398795</td>\n",
       "      <td>1</td>\n",
       "      <td>2</td>\n",
       "      <td>3</td>\n",
       "      <td>7</td>\n",
       "      <td>15.0</td>\n",
       "      <td>196</td>\n",
       "      <td>1</td>\n",
       "      <td>1</td>\n",
       "      <td>Soda</td>\n",
       "      <td>...</td>\n",
       "      <td>Linda</td>\n",
       "      <td>Nguyen</td>\n",
       "      <td>Female</td>\n",
       "      <td>Alabama</td>\n",
       "      <td>31</td>\n",
       "      <td>2/17/2019</td>\n",
       "      <td>3</td>\n",
       "      <td>married</td>\n",
       "      <td>40423</td>\n",
       "      <td>both</td>\n",
       "    </tr>\n",
       "    <tr>\n",
       "      <th>1</th>\n",
       "      <td>473747</td>\n",
       "      <td>1</td>\n",
       "      <td>3</td>\n",
       "      <td>3</td>\n",
       "      <td>12</td>\n",
       "      <td>21.0</td>\n",
       "      <td>196</td>\n",
       "      <td>1</td>\n",
       "      <td>1</td>\n",
       "      <td>Soda</td>\n",
       "      <td>...</td>\n",
       "      <td>Linda</td>\n",
       "      <td>Nguyen</td>\n",
       "      <td>Female</td>\n",
       "      <td>Alabama</td>\n",
       "      <td>31</td>\n",
       "      <td>2/17/2019</td>\n",
       "      <td>3</td>\n",
       "      <td>married</td>\n",
       "      <td>40423</td>\n",
       "      <td>both</td>\n",
       "    </tr>\n",
       "    <tr>\n",
       "      <th>2</th>\n",
       "      <td>2254736</td>\n",
       "      <td>1</td>\n",
       "      <td>4</td>\n",
       "      <td>4</td>\n",
       "      <td>7</td>\n",
       "      <td>29.0</td>\n",
       "      <td>196</td>\n",
       "      <td>1</td>\n",
       "      <td>1</td>\n",
       "      <td>Soda</td>\n",
       "      <td>...</td>\n",
       "      <td>Linda</td>\n",
       "      <td>Nguyen</td>\n",
       "      <td>Female</td>\n",
       "      <td>Alabama</td>\n",
       "      <td>31</td>\n",
       "      <td>2/17/2019</td>\n",
       "      <td>3</td>\n",
       "      <td>married</td>\n",
       "      <td>40423</td>\n",
       "      <td>both</td>\n",
       "    </tr>\n",
       "    <tr>\n",
       "      <th>3</th>\n",
       "      <td>431534</td>\n",
       "      <td>1</td>\n",
       "      <td>5</td>\n",
       "      <td>4</td>\n",
       "      <td>15</td>\n",
       "      <td>28.0</td>\n",
       "      <td>196</td>\n",
       "      <td>1</td>\n",
       "      <td>1</td>\n",
       "      <td>Soda</td>\n",
       "      <td>...</td>\n",
       "      <td>Linda</td>\n",
       "      <td>Nguyen</td>\n",
       "      <td>Female</td>\n",
       "      <td>Alabama</td>\n",
       "      <td>31</td>\n",
       "      <td>2/17/2019</td>\n",
       "      <td>3</td>\n",
       "      <td>married</td>\n",
       "      <td>40423</td>\n",
       "      <td>both</td>\n",
       "    </tr>\n",
       "    <tr>\n",
       "      <th>4</th>\n",
       "      <td>3367565</td>\n",
       "      <td>1</td>\n",
       "      <td>6</td>\n",
       "      <td>2</td>\n",
       "      <td>7</td>\n",
       "      <td>19.0</td>\n",
       "      <td>196</td>\n",
       "      <td>1</td>\n",
       "      <td>1</td>\n",
       "      <td>Soda</td>\n",
       "      <td>...</td>\n",
       "      <td>Linda</td>\n",
       "      <td>Nguyen</td>\n",
       "      <td>Female</td>\n",
       "      <td>Alabama</td>\n",
       "      <td>31</td>\n",
       "      <td>2/17/2019</td>\n",
       "      <td>3</td>\n",
       "      <td>married</td>\n",
       "      <td>40423</td>\n",
       "      <td>both</td>\n",
       "    </tr>\n",
       "  </tbody>\n",
       "</table>\n",
       "<p>5 rows × 32 columns</p>\n",
       "</div>"
      ],
      "text/plain": [
       "   order_id  user_id  order_number  orders_day_of_week  order_hour_of_day  \\\n",
       "0   2398795        1             2                   3                  7   \n",
       "1    473747        1             3                   3                 12   \n",
       "2   2254736        1             4                   4                  7   \n",
       "3    431534        1             5                   4                 15   \n",
       "4   3367565        1             6                   2                  7   \n",
       "\n",
       "   days_since_prior_order  product_id  add_to_cart_order  reordered  \\\n",
       "0                    15.0         196                  1          1   \n",
       "1                    21.0         196                  1          1   \n",
       "2                    29.0         196                  1          1   \n",
       "3                    28.0         196                  1          1   \n",
       "4                    19.0         196                  1          1   \n",
       "\n",
       "  product_name  ...  First Name  Last Name  Gender    State Age date_joined  \\\n",
       "0         Soda  ...       Linda     Nguyen  Female  Alabama  31   2/17/2019   \n",
       "1         Soda  ...       Linda     Nguyen  Female  Alabama  31   2/17/2019   \n",
       "2         Soda  ...       Linda     Nguyen  Female  Alabama  31   2/17/2019   \n",
       "3         Soda  ...       Linda     Nguyen  Female  Alabama  31   2/17/2019   \n",
       "4         Soda  ...       Linda     Nguyen  Female  Alabama  31   2/17/2019   \n",
       "\n",
       "   n_dependants fam_status  income _merge  \n",
       "0             3    married   40423   both  \n",
       "1             3    married   40423   both  \n",
       "2             3    married   40423   both  \n",
       "3             3    married   40423   both  \n",
       "4             3    married   40423   both  \n",
       "\n",
       "[5 rows x 32 columns]"
      ]
     },
     "execution_count": 5,
     "metadata": {},
     "output_type": "execute_result"
    }
   ],
   "source": [
    "# check output\n",
    "customers_merged.head()"
   ]
  },
  {
   "cell_type": "code",
   "execution_count": 6,
   "id": "e328fd03",
   "metadata": {},
   "outputs": [
    {
     "data": {
      "text/plain": [
       "order_id                     int64\n",
       "user_id                      int64\n",
       "order_number                 int64\n",
       "orders_day_of_week           int64\n",
       "order_hour_of_day            int64\n",
       "days_since_prior_order     float64\n",
       "product_id                   int64\n",
       "add_to_cart_order            int64\n",
       "reordered                    int64\n",
       "product_name                object\n",
       "aisle_id                     int64\n",
       "department_id                int64\n",
       "prices                     float64\n",
       "price_range_loc             object\n",
       "busiest_days                object\n",
       "busiest_period_of_day       object\n",
       "max_order                    int64\n",
       "loyalty_flag                object\n",
       "avg_order                  float64\n",
       "spending_flag               object\n",
       "median_order_frequency     float64\n",
       "order_frequency             object\n",
       "First Name                  object\n",
       "Last Name                   object\n",
       "Gender                      object\n",
       "State                       object\n",
       "Age                          int64\n",
       "date_joined                 object\n",
       "n_dependants                 int64\n",
       "fam_status                  object\n",
       "income                       int64\n",
       "_merge                    category\n",
       "dtype: object"
      ]
     },
     "execution_count": 6,
     "metadata": {},
     "output_type": "execute_result"
    }
   ],
   "source": [
    "# check data types\n",
    "customers_merged.dtypes"
   ]
  },
  {
   "cell_type": "markdown",
   "id": "22614eea",
   "metadata": {},
   "source": [
    "## Part 1.2 Address PII data"
   ]
  },
  {
   "cell_type": "code",
   "execution_count": 7,
   "id": "a8abe534",
   "metadata": {},
   "outputs": [],
   "source": [
    "# drop unnecessary colomns and PII data First Name and Last Name\n",
    "customers_merged = customers_merged.drop(columns = ['_merge','First Name','Last Name'])"
   ]
  },
  {
   "cell_type": "markdown",
   "id": "a3b8d618",
   "metadata": {},
   "source": [
    "## Part 1.3 Create regional segmentation"
   ]
  },
  {
   "cell_type": "code",
   "execution_count": 8,
   "id": "17ea4674",
   "metadata": {},
   "outputs": [],
   "source": [
    "# set northeast region flag\n",
    "customers_merged.loc[customers_merged['State'].isin(['Maine', 'New Hampshire', 'Vermont', 'Massachusetts', 'Rhode Island', 'Connecticut', 'New York', 'Pennsylvania', 'New Jersey']),'Region'] = 'Northeast'"
   ]
  },
  {
   "cell_type": "code",
   "execution_count": 9,
   "id": "51322bf7",
   "metadata": {},
   "outputs": [],
   "source": [
    "# set midwest region flag\n",
    "customers_merged.loc[customers_merged['State'].isin(['Wisconsin', 'Michigan', 'Illinois', 'Indiana', 'Ohio', 'North Dakota', 'South Dakota', 'Nebraska', 'Kansas', 'Minnesota','Iowa', 'Missouri']),'Region'] = 'Midwest'"
   ]
  },
  {
   "cell_type": "code",
   "execution_count": 10,
   "id": "55ed5e9b",
   "metadata": {},
   "outputs": [],
   "source": [
    "# set south region flag\n",
    "customers_merged.loc[customers_merged['State'].isin(['Delaware', 'Maryland', 'District of Columbia', 'Virginia', 'West Virginia', 'North Carolina', 'South Carolina', 'Georgia', 'Florida', 'Kentucky', 'Tennessee','Mississippi', 'Alabama', 'Oklahoma', 'Texas', 'Arkansas', 'Louisiana']),'Region'] = 'South'"
   ]
  },
  {
   "cell_type": "code",
   "execution_count": 11,
   "id": "66c9db8d",
   "metadata": {},
   "outputs": [],
   "source": [
    "# set west region flag\n",
    "customers_merged.loc[customers_merged['State'].isin(['Idaho', 'Montana', 'Wyoming','Nevada', 'Utah', 'Colorado', 'Arizona', 'New Mexico', 'Alaska','Washington', 'Oregon', 'California', 'Hawaii']),'Region'] = 'West'"
   ]
  },
  {
   "cell_type": "code",
   "execution_count": 12,
   "id": "bdb71ff9",
   "metadata": {},
   "outputs": [
    {
     "data": {
      "text/plain": [
       "Region\n",
       "South        10099817\n",
       "West          7765088\n",
       "Midwest       7107586\n",
       "Northeast     5356272\n",
       "Name: count, dtype: int64"
      ]
     },
     "execution_count": 12,
     "metadata": {},
     "output_type": "execute_result"
    }
   ],
   "source": [
    "# check value counts\n",
    "customers_merged['Region'].value_counts(dropna = False)"
   ]
  },
  {
   "cell_type": "code",
   "execution_count": 13,
   "id": "7a12bc2f",
   "metadata": {},
   "outputs": [],
   "source": [
    "# create crosstab for region and spending flag\n",
    "crosstab = pd.crosstab(customers_merged['Region'], customers_merged['spending_flag'], dropna = False)"
   ]
  },
  {
   "cell_type": "code",
   "execution_count": 14,
   "id": "52988b17",
   "metadata": {},
   "outputs": [],
   "source": [
    "# export crosstab\n",
    "crosstab.to_clipboard()"
   ]
  },
  {
   "cell_type": "markdown",
   "id": "feb18598",
   "metadata": {},
   "source": [
    "## Part 1.4 Create exclusion flag for low activity customers"
   ]
  },
  {
   "cell_type": "code",
   "execution_count": 15,
   "id": "8a01cfce",
   "metadata": {},
   "outputs": [],
   "source": [
    "# create a low activity flag for customers with less than 5 orders\n",
    "customers_merged.loc[customers_merged['max_order'] < 5, 'customer activity'] = 'Low Activity'"
   ]
  },
  {
   "cell_type": "code",
   "execution_count": 16,
   "id": "52f82d3e",
   "metadata": {},
   "outputs": [],
   "source": [
    "# create a normal activity flag for customers with 5 orders or more\n",
    "customers_merged.loc[customers_merged['max_order'] >= 5, 'customer activity'] = 'Normal Activity'"
   ]
  },
  {
   "cell_type": "code",
   "execution_count": 17,
   "id": "03481be3",
   "metadata": {},
   "outputs": [
    {
     "data": {
      "text/html": [
       "<div>\n",
       "<style scoped>\n",
       "    .dataframe tbody tr th:only-of-type {\n",
       "        vertical-align: middle;\n",
       "    }\n",
       "\n",
       "    .dataframe tbody tr th {\n",
       "        vertical-align: top;\n",
       "    }\n",
       "\n",
       "    .dataframe thead th {\n",
       "        text-align: right;\n",
       "    }\n",
       "</style>\n",
       "<table border=\"1\" class=\"dataframe\">\n",
       "  <thead>\n",
       "    <tr style=\"text-align: right;\">\n",
       "      <th></th>\n",
       "      <th>order_id</th>\n",
       "      <th>user_id</th>\n",
       "      <th>order_number</th>\n",
       "      <th>orders_day_of_week</th>\n",
       "      <th>order_hour_of_day</th>\n",
       "      <th>days_since_prior_order</th>\n",
       "      <th>product_id</th>\n",
       "      <th>add_to_cart_order</th>\n",
       "      <th>reordered</th>\n",
       "      <th>product_name</th>\n",
       "      <th>...</th>\n",
       "      <th>order_frequency</th>\n",
       "      <th>Gender</th>\n",
       "      <th>State</th>\n",
       "      <th>Age</th>\n",
       "      <th>date_joined</th>\n",
       "      <th>n_dependants</th>\n",
       "      <th>fam_status</th>\n",
       "      <th>income</th>\n",
       "      <th>Region</th>\n",
       "      <th>customer activity</th>\n",
       "    </tr>\n",
       "  </thead>\n",
       "  <tbody>\n",
       "    <tr>\n",
       "      <th>0</th>\n",
       "      <td>2398795</td>\n",
       "      <td>1</td>\n",
       "      <td>2</td>\n",
       "      <td>3</td>\n",
       "      <td>7</td>\n",
       "      <td>15.0</td>\n",
       "      <td>196</td>\n",
       "      <td>1</td>\n",
       "      <td>1</td>\n",
       "      <td>Soda</td>\n",
       "      <td>...</td>\n",
       "      <td>Non-frequent customer</td>\n",
       "      <td>Female</td>\n",
       "      <td>Alabama</td>\n",
       "      <td>31</td>\n",
       "      <td>2/17/2019</td>\n",
       "      <td>3</td>\n",
       "      <td>married</td>\n",
       "      <td>40423</td>\n",
       "      <td>South</td>\n",
       "      <td>Normal Activity</td>\n",
       "    </tr>\n",
       "    <tr>\n",
       "      <th>1</th>\n",
       "      <td>473747</td>\n",
       "      <td>1</td>\n",
       "      <td>3</td>\n",
       "      <td>3</td>\n",
       "      <td>12</td>\n",
       "      <td>21.0</td>\n",
       "      <td>196</td>\n",
       "      <td>1</td>\n",
       "      <td>1</td>\n",
       "      <td>Soda</td>\n",
       "      <td>...</td>\n",
       "      <td>Non-frequent customer</td>\n",
       "      <td>Female</td>\n",
       "      <td>Alabama</td>\n",
       "      <td>31</td>\n",
       "      <td>2/17/2019</td>\n",
       "      <td>3</td>\n",
       "      <td>married</td>\n",
       "      <td>40423</td>\n",
       "      <td>South</td>\n",
       "      <td>Normal Activity</td>\n",
       "    </tr>\n",
       "    <tr>\n",
       "      <th>2</th>\n",
       "      <td>2254736</td>\n",
       "      <td>1</td>\n",
       "      <td>4</td>\n",
       "      <td>4</td>\n",
       "      <td>7</td>\n",
       "      <td>29.0</td>\n",
       "      <td>196</td>\n",
       "      <td>1</td>\n",
       "      <td>1</td>\n",
       "      <td>Soda</td>\n",
       "      <td>...</td>\n",
       "      <td>Non-frequent customer</td>\n",
       "      <td>Female</td>\n",
       "      <td>Alabama</td>\n",
       "      <td>31</td>\n",
       "      <td>2/17/2019</td>\n",
       "      <td>3</td>\n",
       "      <td>married</td>\n",
       "      <td>40423</td>\n",
       "      <td>South</td>\n",
       "      <td>Normal Activity</td>\n",
       "    </tr>\n",
       "    <tr>\n",
       "      <th>3</th>\n",
       "      <td>431534</td>\n",
       "      <td>1</td>\n",
       "      <td>5</td>\n",
       "      <td>4</td>\n",
       "      <td>15</td>\n",
       "      <td>28.0</td>\n",
       "      <td>196</td>\n",
       "      <td>1</td>\n",
       "      <td>1</td>\n",
       "      <td>Soda</td>\n",
       "      <td>...</td>\n",
       "      <td>Non-frequent customer</td>\n",
       "      <td>Female</td>\n",
       "      <td>Alabama</td>\n",
       "      <td>31</td>\n",
       "      <td>2/17/2019</td>\n",
       "      <td>3</td>\n",
       "      <td>married</td>\n",
       "      <td>40423</td>\n",
       "      <td>South</td>\n",
       "      <td>Normal Activity</td>\n",
       "    </tr>\n",
       "    <tr>\n",
       "      <th>4</th>\n",
       "      <td>3367565</td>\n",
       "      <td>1</td>\n",
       "      <td>6</td>\n",
       "      <td>2</td>\n",
       "      <td>7</td>\n",
       "      <td>19.0</td>\n",
       "      <td>196</td>\n",
       "      <td>1</td>\n",
       "      <td>1</td>\n",
       "      <td>Soda</td>\n",
       "      <td>...</td>\n",
       "      <td>Non-frequent customer</td>\n",
       "      <td>Female</td>\n",
       "      <td>Alabama</td>\n",
       "      <td>31</td>\n",
       "      <td>2/17/2019</td>\n",
       "      <td>3</td>\n",
       "      <td>married</td>\n",
       "      <td>40423</td>\n",
       "      <td>South</td>\n",
       "      <td>Normal Activity</td>\n",
       "    </tr>\n",
       "  </tbody>\n",
       "</table>\n",
       "<p>5 rows × 31 columns</p>\n",
       "</div>"
      ],
      "text/plain": [
       "   order_id  user_id  order_number  orders_day_of_week  order_hour_of_day  \\\n",
       "0   2398795        1             2                   3                  7   \n",
       "1    473747        1             3                   3                 12   \n",
       "2   2254736        1             4                   4                  7   \n",
       "3    431534        1             5                   4                 15   \n",
       "4   3367565        1             6                   2                  7   \n",
       "\n",
       "   days_since_prior_order  product_id  add_to_cart_order  reordered  \\\n",
       "0                    15.0         196                  1          1   \n",
       "1                    21.0         196                  1          1   \n",
       "2                    29.0         196                  1          1   \n",
       "3                    28.0         196                  1          1   \n",
       "4                    19.0         196                  1          1   \n",
       "\n",
       "  product_name  ...        order_frequency  Gender    State Age date_joined  \\\n",
       "0         Soda  ...  Non-frequent customer  Female  Alabama  31   2/17/2019   \n",
       "1         Soda  ...  Non-frequent customer  Female  Alabama  31   2/17/2019   \n",
       "2         Soda  ...  Non-frequent customer  Female  Alabama  31   2/17/2019   \n",
       "3         Soda  ...  Non-frequent customer  Female  Alabama  31   2/17/2019   \n",
       "4         Soda  ...  Non-frequent customer  Female  Alabama  31   2/17/2019   \n",
       "\n",
       "  n_dependants  fam_status income  Region customer activity  \n",
       "0            3     married  40423   South   Normal Activity  \n",
       "1            3     married  40423   South   Normal Activity  \n",
       "2            3     married  40423   South   Normal Activity  \n",
       "3            3     married  40423   South   Normal Activity  \n",
       "4            3     married  40423   South   Normal Activity  \n",
       "\n",
       "[5 rows x 31 columns]"
      ]
     },
     "execution_count": 17,
     "metadata": {},
     "output_type": "execute_result"
    }
   ],
   "source": [
    "# check output\n",
    "customers_merged.head()"
   ]
  },
  {
   "cell_type": "code",
   "execution_count": 18,
   "id": "d65a15dd",
   "metadata": {},
   "outputs": [],
   "source": [
    "# create subset excluding low activity customers\n",
    "customers_merged_activity = customers_merged[customers_merged['customer activity'] == 'Normal Activity']"
   ]
  },
  {
   "cell_type": "code",
   "execution_count": 19,
   "id": "e2f25b08",
   "metadata": {},
   "outputs": [],
   "source": [
    "# export data to pkl\n",
    "customers_merged_activity.to_pickle(os.path.join(path, '02 Data','Prepared Data', 'customers_merged_high_activity.pkl'))"
   ]
  },
  {
   "cell_type": "code",
   "execution_count": 20,
   "id": "d576a368",
   "metadata": {},
   "outputs": [
    {
     "data": {
      "text/plain": [
       "(29303281, 31)"
      ]
     },
     "execution_count": 20,
     "metadata": {},
     "output_type": "execute_result"
    }
   ],
   "source": [
    "# check shape\n",
    "customers_merged_activity.shape"
   ]
  },
  {
   "cell_type": "code",
   "execution_count": 21,
   "id": "7dea42dd",
   "metadata": {},
   "outputs": [
    {
     "data": {
      "text/html": [
       "<div>\n",
       "<style scoped>\n",
       "    .dataframe tbody tr th:only-of-type {\n",
       "        vertical-align: middle;\n",
       "    }\n",
       "\n",
       "    .dataframe tbody tr th {\n",
       "        vertical-align: top;\n",
       "    }\n",
       "\n",
       "    .dataframe thead th {\n",
       "        text-align: right;\n",
       "    }\n",
       "</style>\n",
       "<table border=\"1\" class=\"dataframe\">\n",
       "  <thead>\n",
       "    <tr style=\"text-align: right;\">\n",
       "      <th></th>\n",
       "      <th>order_id</th>\n",
       "      <th>user_id</th>\n",
       "      <th>order_number</th>\n",
       "      <th>orders_day_of_week</th>\n",
       "      <th>order_hour_of_day</th>\n",
       "      <th>days_since_prior_order</th>\n",
       "      <th>product_id</th>\n",
       "      <th>add_to_cart_order</th>\n",
       "      <th>reordered</th>\n",
       "      <th>product_name</th>\n",
       "      <th>...</th>\n",
       "      <th>order_frequency</th>\n",
       "      <th>Gender</th>\n",
       "      <th>State</th>\n",
       "      <th>Age</th>\n",
       "      <th>date_joined</th>\n",
       "      <th>n_dependants</th>\n",
       "      <th>fam_status</th>\n",
       "      <th>income</th>\n",
       "      <th>Region</th>\n",
       "      <th>customer activity</th>\n",
       "    </tr>\n",
       "  </thead>\n",
       "  <tbody>\n",
       "    <tr>\n",
       "      <th>0</th>\n",
       "      <td>2398795</td>\n",
       "      <td>1</td>\n",
       "      <td>2</td>\n",
       "      <td>3</td>\n",
       "      <td>7</td>\n",
       "      <td>15.0</td>\n",
       "      <td>196</td>\n",
       "      <td>1</td>\n",
       "      <td>1</td>\n",
       "      <td>Soda</td>\n",
       "      <td>...</td>\n",
       "      <td>Non-frequent customer</td>\n",
       "      <td>Female</td>\n",
       "      <td>Alabama</td>\n",
       "      <td>31</td>\n",
       "      <td>2/17/2019</td>\n",
       "      <td>3</td>\n",
       "      <td>married</td>\n",
       "      <td>40423</td>\n",
       "      <td>South</td>\n",
       "      <td>Normal Activity</td>\n",
       "    </tr>\n",
       "    <tr>\n",
       "      <th>1</th>\n",
       "      <td>473747</td>\n",
       "      <td>1</td>\n",
       "      <td>3</td>\n",
       "      <td>3</td>\n",
       "      <td>12</td>\n",
       "      <td>21.0</td>\n",
       "      <td>196</td>\n",
       "      <td>1</td>\n",
       "      <td>1</td>\n",
       "      <td>Soda</td>\n",
       "      <td>...</td>\n",
       "      <td>Non-frequent customer</td>\n",
       "      <td>Female</td>\n",
       "      <td>Alabama</td>\n",
       "      <td>31</td>\n",
       "      <td>2/17/2019</td>\n",
       "      <td>3</td>\n",
       "      <td>married</td>\n",
       "      <td>40423</td>\n",
       "      <td>South</td>\n",
       "      <td>Normal Activity</td>\n",
       "    </tr>\n",
       "    <tr>\n",
       "      <th>2</th>\n",
       "      <td>2254736</td>\n",
       "      <td>1</td>\n",
       "      <td>4</td>\n",
       "      <td>4</td>\n",
       "      <td>7</td>\n",
       "      <td>29.0</td>\n",
       "      <td>196</td>\n",
       "      <td>1</td>\n",
       "      <td>1</td>\n",
       "      <td>Soda</td>\n",
       "      <td>...</td>\n",
       "      <td>Non-frequent customer</td>\n",
       "      <td>Female</td>\n",
       "      <td>Alabama</td>\n",
       "      <td>31</td>\n",
       "      <td>2/17/2019</td>\n",
       "      <td>3</td>\n",
       "      <td>married</td>\n",
       "      <td>40423</td>\n",
       "      <td>South</td>\n",
       "      <td>Normal Activity</td>\n",
       "    </tr>\n",
       "    <tr>\n",
       "      <th>3</th>\n",
       "      <td>431534</td>\n",
       "      <td>1</td>\n",
       "      <td>5</td>\n",
       "      <td>4</td>\n",
       "      <td>15</td>\n",
       "      <td>28.0</td>\n",
       "      <td>196</td>\n",
       "      <td>1</td>\n",
       "      <td>1</td>\n",
       "      <td>Soda</td>\n",
       "      <td>...</td>\n",
       "      <td>Non-frequent customer</td>\n",
       "      <td>Female</td>\n",
       "      <td>Alabama</td>\n",
       "      <td>31</td>\n",
       "      <td>2/17/2019</td>\n",
       "      <td>3</td>\n",
       "      <td>married</td>\n",
       "      <td>40423</td>\n",
       "      <td>South</td>\n",
       "      <td>Normal Activity</td>\n",
       "    </tr>\n",
       "    <tr>\n",
       "      <th>4</th>\n",
       "      <td>3367565</td>\n",
       "      <td>1</td>\n",
       "      <td>6</td>\n",
       "      <td>2</td>\n",
       "      <td>7</td>\n",
       "      <td>19.0</td>\n",
       "      <td>196</td>\n",
       "      <td>1</td>\n",
       "      <td>1</td>\n",
       "      <td>Soda</td>\n",
       "      <td>...</td>\n",
       "      <td>Non-frequent customer</td>\n",
       "      <td>Female</td>\n",
       "      <td>Alabama</td>\n",
       "      <td>31</td>\n",
       "      <td>2/17/2019</td>\n",
       "      <td>3</td>\n",
       "      <td>married</td>\n",
       "      <td>40423</td>\n",
       "      <td>South</td>\n",
       "      <td>Normal Activity</td>\n",
       "    </tr>\n",
       "  </tbody>\n",
       "</table>\n",
       "<p>5 rows × 31 columns</p>\n",
       "</div>"
      ],
      "text/plain": [
       "   order_id  user_id  order_number  orders_day_of_week  order_hour_of_day  \\\n",
       "0   2398795        1             2                   3                  7   \n",
       "1    473747        1             3                   3                 12   \n",
       "2   2254736        1             4                   4                  7   \n",
       "3    431534        1             5                   4                 15   \n",
       "4   3367565        1             6                   2                  7   \n",
       "\n",
       "   days_since_prior_order  product_id  add_to_cart_order  reordered  \\\n",
       "0                    15.0         196                  1          1   \n",
       "1                    21.0         196                  1          1   \n",
       "2                    29.0         196                  1          1   \n",
       "3                    28.0         196                  1          1   \n",
       "4                    19.0         196                  1          1   \n",
       "\n",
       "  product_name  ...        order_frequency  Gender    State Age date_joined  \\\n",
       "0         Soda  ...  Non-frequent customer  Female  Alabama  31   2/17/2019   \n",
       "1         Soda  ...  Non-frequent customer  Female  Alabama  31   2/17/2019   \n",
       "2         Soda  ...  Non-frequent customer  Female  Alabama  31   2/17/2019   \n",
       "3         Soda  ...  Non-frequent customer  Female  Alabama  31   2/17/2019   \n",
       "4         Soda  ...  Non-frequent customer  Female  Alabama  31   2/17/2019   \n",
       "\n",
       "  n_dependants  fam_status income  Region customer activity  \n",
       "0            3     married  40423   South   Normal Activity  \n",
       "1            3     married  40423   South   Normal Activity  \n",
       "2            3     married  40423   South   Normal Activity  \n",
       "3            3     married  40423   South   Normal Activity  \n",
       "4            3     married  40423   South   Normal Activity  \n",
       "\n",
       "[5 rows x 31 columns]"
      ]
     },
     "execution_count": 21,
     "metadata": {},
     "output_type": "execute_result"
    }
   ],
   "source": [
    "# check output\n",
    "customers_merged_activity.head()"
   ]
  },
  {
   "cell_type": "markdown",
   "id": "2c2b3963",
   "metadata": {},
   "source": [
    "## Part 1.5 Create customer profiles based on age, income, number of dependents, and family status"
   ]
  },
  {
   "cell_type": "code",
   "execution_count": 22,
   "id": "66c35ff7",
   "metadata": {},
   "outputs": [
    {
     "data": {
      "text/html": [
       "<div>\n",
       "<style scoped>\n",
       "    .dataframe tbody tr th:only-of-type {\n",
       "        vertical-align: middle;\n",
       "    }\n",
       "\n",
       "    .dataframe tbody tr th {\n",
       "        vertical-align: top;\n",
       "    }\n",
       "\n",
       "    .dataframe thead th {\n",
       "        text-align: right;\n",
       "    }\n",
       "</style>\n",
       "<table border=\"1\" class=\"dataframe\">\n",
       "  <thead>\n",
       "    <tr style=\"text-align: right;\">\n",
       "      <th></th>\n",
       "      <th>Age</th>\n",
       "    </tr>\n",
       "  </thead>\n",
       "  <tbody>\n",
       "    <tr>\n",
       "      <th>mean</th>\n",
       "      <td>49.465938</td>\n",
       "    </tr>\n",
       "    <tr>\n",
       "      <th>min</th>\n",
       "      <td>18.000000</td>\n",
       "    </tr>\n",
       "    <tr>\n",
       "      <th>max</th>\n",
       "      <td>81.000000</td>\n",
       "    </tr>\n",
       "  </tbody>\n",
       "</table>\n",
       "</div>"
      ],
      "text/plain": [
       "            Age\n",
       "mean  49.465938\n",
       "min   18.000000\n",
       "max   81.000000"
      ]
     },
     "execution_count": 22,
     "metadata": {},
     "output_type": "execute_result"
    }
   ],
   "source": [
    "# aggregate age get information to create profiles\n",
    "customers_merged_activity.agg({'Age': ['mean', 'min', 'max']})"
   ]
  },
  {
   "cell_type": "code",
   "execution_count": 23,
   "id": "7555569f",
   "metadata": {},
   "outputs": [
    {
     "data": {
      "text/html": [
       "<div>\n",
       "<style scoped>\n",
       "    .dataframe tbody tr th:only-of-type {\n",
       "        vertical-align: middle;\n",
       "    }\n",
       "\n",
       "    .dataframe tbody tr th {\n",
       "        vertical-align: top;\n",
       "    }\n",
       "\n",
       "    .dataframe thead th {\n",
       "        text-align: right;\n",
       "    }\n",
       "</style>\n",
       "<table border=\"1\" class=\"dataframe\">\n",
       "  <thead>\n",
       "    <tr style=\"text-align: right;\">\n",
       "      <th></th>\n",
       "      <th>income</th>\n",
       "    </tr>\n",
       "  </thead>\n",
       "  <tbody>\n",
       "    <tr>\n",
       "      <th>mean</th>\n",
       "      <td>99720.592337</td>\n",
       "    </tr>\n",
       "    <tr>\n",
       "      <th>min</th>\n",
       "      <td>25903.000000</td>\n",
       "    </tr>\n",
       "    <tr>\n",
       "      <th>max</th>\n",
       "      <td>593901.000000</td>\n",
       "    </tr>\n",
       "  </tbody>\n",
       "</table>\n",
       "</div>"
      ],
      "text/plain": [
       "             income\n",
       "mean   99720.592337\n",
       "min    25903.000000\n",
       "max   593901.000000"
      ]
     },
     "execution_count": 23,
     "metadata": {},
     "output_type": "execute_result"
    }
   ],
   "source": [
    "# aggregate income get infrmation to create profiles\n",
    "customers_merged_activity.agg({'income': ['mean', 'min', 'max']})"
   ]
  },
  {
   "cell_type": "code",
   "execution_count": 24,
   "id": "3b6f3258",
   "metadata": {},
   "outputs": [
    {
     "data": {
      "text/html": [
       "<div>\n",
       "<style scoped>\n",
       "    .dataframe tbody tr th:only-of-type {\n",
       "        vertical-align: middle;\n",
       "    }\n",
       "\n",
       "    .dataframe tbody tr th {\n",
       "        vertical-align: top;\n",
       "    }\n",
       "\n",
       "    .dataframe thead th {\n",
       "        text-align: right;\n",
       "    }\n",
       "</style>\n",
       "<table border=\"1\" class=\"dataframe\">\n",
       "  <thead>\n",
       "    <tr style=\"text-align: right;\">\n",
       "      <th></th>\n",
       "      <th>n_dependants</th>\n",
       "    </tr>\n",
       "  </thead>\n",
       "  <tbody>\n",
       "    <tr>\n",
       "      <th>mean</th>\n",
       "      <td>1.5019</td>\n",
       "    </tr>\n",
       "    <tr>\n",
       "      <th>min</th>\n",
       "      <td>0.0000</td>\n",
       "    </tr>\n",
       "    <tr>\n",
       "      <th>max</th>\n",
       "      <td>3.0000</td>\n",
       "    </tr>\n",
       "  </tbody>\n",
       "</table>\n",
       "</div>"
      ],
      "text/plain": [
       "      n_dependants\n",
       "mean        1.5019\n",
       "min         0.0000\n",
       "max         3.0000"
      ]
     },
     "execution_count": 24,
     "metadata": {},
     "output_type": "execute_result"
    }
   ],
   "source": [
    "# aggregate n_dependants get information to create profiles\n",
    "customers_merged_activity.agg({'n_dependants': ['mean', 'min', 'max']})"
   ]
  },
  {
   "cell_type": "code",
   "execution_count": 25,
   "id": "f6111497",
   "metadata": {},
   "outputs": [
    {
     "data": {
      "text/plain": [
       "fam_status\n",
       "married                             20575742\n",
       "single                               4820773\n",
       "divorced/widowed                     2504114\n",
       "living with parents and siblings     1402652\n",
       "Name: count, dtype: int64"
      ]
     },
     "execution_count": 25,
     "metadata": {},
     "output_type": "execute_result"
    }
   ],
   "source": [
    "# aggregate fam_status get information to create profiles\n",
    "customers_merged_activity['fam_status'].value_counts(dropna = False)"
   ]
  },
  {
   "cell_type": "code",
   "execution_count": 26,
   "id": "33495190",
   "metadata": {},
   "outputs": [
    {
     "data": {
      "text/html": [
       "<div>\n",
       "<style scoped>\n",
       "    .dataframe tbody tr th:only-of-type {\n",
       "        vertical-align: middle;\n",
       "    }\n",
       "\n",
       "    .dataframe tbody tr th {\n",
       "        vertical-align: top;\n",
       "    }\n",
       "\n",
       "    .dataframe thead tr th {\n",
       "        text-align: left;\n",
       "    }\n",
       "\n",
       "    .dataframe thead tr:last-of-type th {\n",
       "        text-align: right;\n",
       "    }\n",
       "</style>\n",
       "<table border=\"1\" class=\"dataframe\">\n",
       "  <thead>\n",
       "    <tr>\n",
       "      <th></th>\n",
       "      <th colspan=\"3\" halign=\"left\">n_dependants</th>\n",
       "    </tr>\n",
       "    <tr>\n",
       "      <th></th>\n",
       "      <th>mean</th>\n",
       "      <th>min</th>\n",
       "      <th>max</th>\n",
       "    </tr>\n",
       "    <tr>\n",
       "      <th>fam_status</th>\n",
       "      <th></th>\n",
       "      <th></th>\n",
       "      <th></th>\n",
       "    </tr>\n",
       "  </thead>\n",
       "  <tbody>\n",
       "    <tr>\n",
       "      <th>divorced/widowed</th>\n",
       "      <td>0.000000</td>\n",
       "      <td>0</td>\n",
       "      <td>0</td>\n",
       "    </tr>\n",
       "    <tr>\n",
       "      <th>living with parents and siblings</th>\n",
       "      <td>1.986528</td>\n",
       "      <td>1</td>\n",
       "      <td>3</td>\n",
       "    </tr>\n",
       "    <tr>\n",
       "      <th>married</th>\n",
       "      <td>2.003534</td>\n",
       "      <td>1</td>\n",
       "      <td>3</td>\n",
       "    </tr>\n",
       "    <tr>\n",
       "      <th>single</th>\n",
       "      <td>0.000000</td>\n",
       "      <td>0</td>\n",
       "      <td>0</td>\n",
       "    </tr>\n",
       "  </tbody>\n",
       "</table>\n",
       "</div>"
      ],
      "text/plain": [
       "                                 n_dependants        \n",
       "                                         mean min max\n",
       "fam_status                                           \n",
       "divorced/widowed                     0.000000   0   0\n",
       "living with parents and siblings     1.986528   1   3\n",
       "married                              2.003534   1   3\n",
       "single                               0.000000   0   0"
      ]
     },
     "execution_count": 26,
     "metadata": {},
     "output_type": "execute_result"
    }
   ],
   "source": [
    "# check aggregates of n_dependants grouped by fam_status to create profiles\n",
    "customers_merged_activity.groupby('fam_status').agg({'n_dependants': ['mean', 'min', 'max']})"
   ]
  },
  {
   "cell_type": "code",
   "execution_count": 27,
   "id": "aaf564a0",
   "metadata": {},
   "outputs": [
    {
     "data": {
      "text/html": [
       "<div>\n",
       "<style scoped>\n",
       "    .dataframe tbody tr th:only-of-type {\n",
       "        vertical-align: middle;\n",
       "    }\n",
       "\n",
       "    .dataframe tbody tr th {\n",
       "        vertical-align: top;\n",
       "    }\n",
       "\n",
       "    .dataframe thead tr th {\n",
       "        text-align: left;\n",
       "    }\n",
       "\n",
       "    .dataframe thead tr:last-of-type th {\n",
       "        text-align: right;\n",
       "    }\n",
       "</style>\n",
       "<table border=\"1\" class=\"dataframe\">\n",
       "  <thead>\n",
       "    <tr>\n",
       "      <th></th>\n",
       "      <th colspan=\"3\" halign=\"left\">Age</th>\n",
       "    </tr>\n",
       "    <tr>\n",
       "      <th></th>\n",
       "      <th>mean</th>\n",
       "      <th>min</th>\n",
       "      <th>max</th>\n",
       "    </tr>\n",
       "    <tr>\n",
       "      <th>fam_status</th>\n",
       "      <th></th>\n",
       "      <th></th>\n",
       "      <th></th>\n",
       "    </tr>\n",
       "  </thead>\n",
       "  <tbody>\n",
       "    <tr>\n",
       "      <th>divorced/widowed</th>\n",
       "      <td>70.511518</td>\n",
       "      <td>60</td>\n",
       "      <td>81</td>\n",
       "    </tr>\n",
       "    <tr>\n",
       "      <th>living with parents and siblings</th>\n",
       "      <td>19.502122</td>\n",
       "      <td>18</td>\n",
       "      <td>21</td>\n",
       "    </tr>\n",
       "    <tr>\n",
       "      <th>married</th>\n",
       "      <td>51.491379</td>\n",
       "      <td>22</td>\n",
       "      <td>81</td>\n",
       "    </tr>\n",
       "    <tr>\n",
       "      <th>single</th>\n",
       "      <td>38.607376</td>\n",
       "      <td>18</td>\n",
       "      <td>59</td>\n",
       "    </tr>\n",
       "  </tbody>\n",
       "</table>\n",
       "</div>"
      ],
      "text/plain": [
       "                                        Age        \n",
       "                                       mean min max\n",
       "fam_status                                         \n",
       "divorced/widowed                  70.511518  60  81\n",
       "living with parents and siblings  19.502122  18  21\n",
       "married                           51.491379  22  81\n",
       "single                            38.607376  18  59"
      ]
     },
     "execution_count": 27,
     "metadata": {},
     "output_type": "execute_result"
    }
   ],
   "source": [
    "# check aggregates of age grouped by fam_status to create profiles\n",
    "customers_merged_activity.groupby('fam_status').agg({'Age': ['mean', 'min', 'max']})"
   ]
  },
  {
   "cell_type": "code",
   "execution_count": 28,
   "id": "dc506d0f",
   "metadata": {},
   "outputs": [
    {
     "name": "stderr",
     "output_type": "stream",
     "text": [
      "/var/folders/wd/xh8m0hc916l1ffmsssspd3f40000gn/T/ipykernel_86735/2654910760.py:1: SettingWithCopyWarning: \n",
      "A value is trying to be set on a copy of a slice from a DataFrame.\n",
      "Try using .loc[row_indexer,col_indexer] = value instead\n",
      "\n",
      "See the caveats in the documentation: https://pandas.pydata.org/pandas-docs/stable/user_guide/indexing.html#returning-a-view-versus-a-copy\n",
      "  customers_merged_activity.loc[customers_merged_activity['n_dependants'] > 0, 'Dependants'] = 'Yes'\n"
     ]
    }
   ],
   "source": [
    "# create a dependants flag \n",
    "customers_merged_activity.loc[customers_merged_activity['n_dependants'] > 0, 'Dependants'] = 'Yes'"
   ]
  },
  {
   "cell_type": "code",
   "execution_count": 29,
   "id": "3e17229c",
   "metadata": {},
   "outputs": [],
   "source": [
    "customers_merged_activity.loc[customers_merged_activity['n_dependants'] == 0, 'Dependants'] = 'No'"
   ]
  },
  {
   "cell_type": "code",
   "execution_count": 30,
   "id": "048bab1e",
   "metadata": {},
   "outputs": [
    {
     "data": {
      "text/plain": [
       "Dependants\n",
       "Yes    21978394\n",
       "No      7324887\n",
       "Name: count, dtype: int64"
      ]
     },
     "execution_count": 30,
     "metadata": {},
     "output_type": "execute_result"
    }
   ],
   "source": [
    "# check value counts\n",
    "customers_merged_activity['Dependants'].value_counts(dropna = False)"
   ]
  },
  {
   "cell_type": "code",
   "execution_count": 44,
   "id": "4e035dbf",
   "metadata": {},
   "outputs": [],
   "source": [
    "# create an array for income to find the 25th 50th and 75th percentile to create income flag\n",
    "array = customers_merged_activity['income']"
   ]
  },
  {
   "cell_type": "code",
   "execution_count": 45,
   "id": "4d309176",
   "metadata": {},
   "outputs": [
    {
     "data": {
      "text/plain": [
       "0           40423\n",
       "1           40423\n",
       "2           40423\n",
       "3           40423\n",
       "4           40423\n",
       "            ...  \n",
       "30328755    53755\n",
       "30328756    53755\n",
       "30328757    53755\n",
       "30328758    53755\n",
       "30328759    53755\n",
       "Name: income, Length: 29303281, dtype: int64"
      ]
     },
     "execution_count": 45,
     "metadata": {},
     "output_type": "execute_result"
    }
   ],
   "source": [
    "array"
   ]
  },
  {
   "cell_type": "code",
   "execution_count": 46,
   "id": "52a9186c",
   "metadata": {},
   "outputs": [
    {
     "data": {
      "text/plain": [
       "67351.0"
      ]
     },
     "execution_count": 46,
     "metadata": {},
     "output_type": "execute_result"
    }
   ],
   "source": [
    "# 25th percentile\n",
    "np.percentile(array, 25)"
   ]
  },
  {
   "cell_type": "code",
   "execution_count": 47,
   "id": "b74caf40",
   "metadata": {},
   "outputs": [
    {
     "data": {
      "text/plain": [
       "96780.0"
      ]
     },
     "execution_count": 47,
     "metadata": {},
     "output_type": "execute_result"
    }
   ],
   "source": [
    "# 50th percentile\n",
    "np.percentile(array,50)"
   ]
  },
  {
   "cell_type": "code",
   "execution_count": 48,
   "id": "ac8c6c58",
   "metadata": {},
   "outputs": [
    {
     "data": {
      "text/plain": [
       "128115.0"
      ]
     },
     "execution_count": 48,
     "metadata": {},
     "output_type": "execute_result"
    }
   ],
   "source": [
    "# 75th percentile\n",
    "np.percentile(array,75)"
   ]
  },
  {
   "cell_type": "code",
   "execution_count": 49,
   "id": "7da0d47a",
   "metadata": {},
   "outputs": [
    {
     "name": "stderr",
     "output_type": "stream",
     "text": [
      "/var/folders/wd/xh8m0hc916l1ffmsssspd3f40000gn/T/ipykernel_86735/3562284314.py:1: SettingWithCopyWarning: \n",
      "A value is trying to be set on a copy of a slice from a DataFrame.\n",
      "Try using .loc[row_indexer,col_indexer] = value instead\n",
      "\n",
      "See the caveats in the documentation: https://pandas.pydata.org/pandas-docs/stable/user_guide/indexing.html#returning-a-view-versus-a-copy\n",
      "  customers_merged_activity.loc[customers_merged_activity['income'] <= 67351, 'Income Range'] = 'Low Income'\n"
     ]
    }
   ],
   "source": [
    "# create an income range of low, mid, and high income based on percentiles\n",
    "customers_merged_activity.loc[customers_merged_activity['income'] <= 67351, 'Income Range'] = 'Low Income'"
   ]
  },
  {
   "cell_type": "code",
   "execution_count": 50,
   "id": "f12f3a88",
   "metadata": {},
   "outputs": [],
   "source": [
    "customers_merged_activity.loc[(customers_merged_activity['income'] > 67351) & (customers_merged_activity['income'] < 128115), 'Income Range'] = 'Mid Income'"
   ]
  },
  {
   "cell_type": "code",
   "execution_count": 51,
   "id": "aeae607d",
   "metadata": {},
   "outputs": [],
   "source": [
    "customers_merged_activity.loc[customers_merged_activity['income'] >= 128115, 'Income Range'] = 'High Income'"
   ]
  },
  {
   "cell_type": "code",
   "execution_count": 52,
   "id": "e7da40c0",
   "metadata": {},
   "outputs": [
    {
     "data": {
      "text/plain": [
       "Income Range\n",
       "Mid Income     14651459\n",
       "High Income     7325998\n",
       "Low Income      7325824\n",
       "Name: count, dtype: int64"
      ]
     },
     "execution_count": 52,
     "metadata": {},
     "output_type": "execute_result"
    }
   ],
   "source": [
    "# check value counts\n",
    "customers_merged_activity['Income Range'].value_counts(dropna = False)"
   ]
  },
  {
   "cell_type": "code",
   "execution_count": 53,
   "id": "302027f8",
   "metadata": {},
   "outputs": [
    {
     "name": "stderr",
     "output_type": "stream",
     "text": [
      "/var/folders/wd/xh8m0hc916l1ffmsssspd3f40000gn/T/ipykernel_86735/1472014248.py:1: SettingWithCopyWarning: \n",
      "A value is trying to be set on a copy of a slice from a DataFrame.\n",
      "Try using .loc[row_indexer,col_indexer] = value instead\n",
      "\n",
      "See the caveats in the documentation: https://pandas.pydata.org/pandas-docs/stable/user_guide/indexing.html#returning-a-view-versus-a-copy\n",
      "  customers_merged_activity.loc[(customers_merged_activity['Income Range'] == 'Low Income') & (customers_merged_activity['Dependants'] == 'Yes') & (customers_merged_activity['fam_status'].isin (['single', 'living with parents and siblings', 'divorced/widowed'])), 'Income Profile'] = 'Low income single with dependants'\n"
     ]
    }
   ],
   "source": [
    "# create income profile based on income , fam_status, and dependents\n",
    "customers_merged_activity.loc[(customers_merged_activity['Income Range'] == 'Low Income') & (customers_merged_activity['Dependants'] == 'Yes') & (customers_merged_activity['fam_status'].isin (['single', 'living with parents and siblings', 'divorced/widowed'])), 'Income Profile'] = 'Low income single with dependants'"
   ]
  },
  {
   "cell_type": "code",
   "execution_count": 54,
   "id": "d2f142ff",
   "metadata": {},
   "outputs": [],
   "source": [
    "customers_merged_activity.loc[(customers_merged_activity['Income Range'] == 'Mid Income') & (customers_merged_activity['Dependants'] == 'Yes') & (customers_merged_activity['fam_status'].isin (['single', 'living with parents and siblings', 'divorced/widowed'])), 'Income Profile'] = 'Mid income single with dependants'"
   ]
  },
  {
   "cell_type": "code",
   "execution_count": 55,
   "id": "d4e8e60e",
   "metadata": {},
   "outputs": [],
   "source": [
    "customers_merged_activity.loc[(customers_merged_activity['Income Range'] == 'High Income') & (customers_merged_activity['Dependants'] == 'Yes') & (customers_merged_activity['fam_status'].isin (['single', 'living with parents and siblings', 'divorced/widowed'])), 'Income Profile'] = 'High income single with dependants'"
   ]
  },
  {
   "cell_type": "code",
   "execution_count": 56,
   "id": "5eca2d45",
   "metadata": {},
   "outputs": [],
   "source": [
    "customers_merged_activity.loc[(customers_merged_activity['Income Range'] == 'Low Income') & (customers_merged_activity['Dependants'] == 'No') & (customers_merged_activity['fam_status'].isin (['single', 'living with parents and siblings', 'divorced/widowed'])), 'Income Profile'] = 'Low income single without dependants'"
   ]
  },
  {
   "cell_type": "code",
   "execution_count": 57,
   "id": "6192d0bd",
   "metadata": {},
   "outputs": [],
   "source": [
    "customers_merged_activity.loc[(customers_merged_activity['Income Range'] == 'Mid Income') & (customers_merged_activity['Dependants'] == 'No') & (customers_merged_activity['fam_status'].isin (['single', 'living with parents and siblings', 'divorced/widowed'])), 'Income Profile'] = 'Mid income single without dependants'"
   ]
  },
  {
   "cell_type": "code",
   "execution_count": 58,
   "id": "aee52f4f",
   "metadata": {},
   "outputs": [],
   "source": [
    "customers_merged_activity.loc[(customers_merged_activity['Income Range'] == 'High Income') & (customers_merged_activity['Dependants'] == 'No') & (customers_merged_activity['fam_status'].isin (['single', 'living with parents and siblings', 'divorced/widowed'])), 'Income Profile'] = 'High income single without dependants'"
   ]
  },
  {
   "cell_type": "code",
   "execution_count": 59,
   "id": "da41a764",
   "metadata": {},
   "outputs": [],
   "source": [
    "customers_merged_activity.loc[(customers_merged_activity['Income Range'] == 'Low Income') & (customers_merged_activity['Dependants'] == 'Yes') & (customers_merged_activity['fam_status'] == 'married'), 'Income Profile'] = 'Low income married with dependants'"
   ]
  },
  {
   "cell_type": "code",
   "execution_count": 60,
   "id": "2e2b9e8f",
   "metadata": {},
   "outputs": [],
   "source": [
    "customers_merged_activity.loc[(customers_merged_activity['Income Range'] == 'Mid Income') & (customers_merged_activity['Dependants'] == 'Yes') & (customers_merged_activity['fam_status'] == 'married'), 'Income Profile'] = 'Mid income married with dependants'"
   ]
  },
  {
   "cell_type": "code",
   "execution_count": 61,
   "id": "6d35c323",
   "metadata": {},
   "outputs": [],
   "source": [
    "customers_merged_activity.loc[(customers_merged_activity['Income Range'] == 'High Income') & (customers_merged_activity['Dependants'] == 'Yes') & (customers_merged_activity['fam_status'] == 'married'), 'Income Profile'] = 'High income married with dependants'"
   ]
  },
  {
   "cell_type": "code",
   "execution_count": 62,
   "id": "0f7737de",
   "metadata": {},
   "outputs": [],
   "source": [
    "customers_merged_activity.loc[(customers_merged_activity['Income Range'] == 'Low Income') & (customers_merged_activity['Dependants'] == 'No') & (customers_merged_activity['fam_status'] == 'married'), 'Income Profile'] = 'Low income married without dependants'"
   ]
  },
  {
   "cell_type": "code",
   "execution_count": 63,
   "id": "c9e39c98",
   "metadata": {},
   "outputs": [],
   "source": [
    "customers_merged_activity.loc[(customers_merged_activity['Income Range'] == 'Mid Income') & (customers_merged_activity['Dependants'] == 'No') & (customers_merged_activity['fam_status'] == 'married'), 'Income Profile'] = 'Mid income married without dependants'"
   ]
  },
  {
   "cell_type": "code",
   "execution_count": 64,
   "id": "c6c4b26c",
   "metadata": {},
   "outputs": [],
   "source": [
    "customers_merged_activity.loc[(customers_merged_activity['Income Range'] == 'High Income') & (customers_merged_activity['Dependants'] == 'No') & (customers_merged_activity['fam_status'] == 'married'), 'Income Profile'] = 'High income married without dependants'"
   ]
  },
  {
   "cell_type": "code",
   "execution_count": 65,
   "id": "cf406ca1",
   "metadata": {},
   "outputs": [
    {
     "data": {
      "text/plain": [
       "Income Profile\n",
       "Mid income married with dependants       10238804\n",
       "High income married with dependants       5467272\n",
       "Low income married with dependants        4869666\n",
       "Mid income single without dependants      3657168\n",
       "High income single without dependants     1841579\n",
       "Low income single without dependants      1826140\n",
       "Mid income single with dependants          755487\n",
       "Low income single with dependants          630018\n",
       "High income single with dependants          17147\n",
       "Name: count, dtype: int64"
      ]
     },
     "execution_count": 65,
     "metadata": {},
     "output_type": "execute_result"
    }
   ],
   "source": [
    "# check value counts\n",
    "customers_merged_activity['Income Profile'].value_counts(dropna = False)"
   ]
  },
  {
   "cell_type": "code",
   "execution_count": 79,
   "id": "6bc912a5",
   "metadata": {},
   "outputs": [],
   "source": [
    "# create family profile based on fam_status and dependants\n",
    "customers_merged_activity.loc[(customers_merged_activity['Dependants'] == 'Yes') & (customers_merged_activity['fam_status'].isin (['single', 'living with parents and siblings', 'divorced/widowed'])), 'Family Profile'] = 'Single with dependants'"
   ]
  },
  {
   "cell_type": "code",
   "execution_count": 80,
   "id": "b7f44552",
   "metadata": {},
   "outputs": [],
   "source": [
    "customers_merged_activity.loc[(customers_merged_activity['Dependants'] == 'No') & (customers_merged_activity['fam_status'].isin (['single', 'living with parents and siblings', 'divorced/widowed'])), 'Family Profile'] = 'Single without dependants'"
   ]
  },
  {
   "cell_type": "code",
   "execution_count": 81,
   "id": "67634106",
   "metadata": {},
   "outputs": [],
   "source": [
    "customers_merged_activity.loc[(customers_merged_activity['Dependants'] == 'Yes') & (customers_merged_activity['fam_status'] =='married'), 'Family Profile'] = 'Married with dependants'"
   ]
  },
  {
   "cell_type": "code",
   "execution_count": 82,
   "id": "adfc47c7",
   "metadata": {},
   "outputs": [],
   "source": [
    "customers_merged_activity.loc[(customers_merged_activity['Dependants'] == 'No') & (customers_merged_activity['fam_status'] =='married'), 'Family Profile'] = 'Married without dependants'"
   ]
  },
  {
   "cell_type": "code",
   "execution_count": 83,
   "id": "16e04c7e",
   "metadata": {},
   "outputs": [],
   "source": [
    "# Create age profile based on fam_status and age\n",
    "customers_merged_activity.loc[(customers_merged_activity['Age'] <= 35) & (customers_merged_activity['fam_status'].isin (['single', 'living with parents and siblings', 'divorced/widowed'])), 'Age Profile'] = 'Single adult under 36'"
   ]
  },
  {
   "cell_type": "code",
   "execution_count": 84,
   "id": "797da0ae",
   "metadata": {},
   "outputs": [],
   "source": [
    "customers_merged_activity.loc[(customers_merged_activity['Age'] > 35) & (customers_merged_activity['Age'] < 60) & (customers_merged_activity['fam_status'].isin (['single', 'living with parents and siblings', 'divorced/widowed'])), 'Age Profile'] = 'Single adult 36-59'"
   ]
  },
  {
   "cell_type": "code",
   "execution_count": 85,
   "id": "79c07090",
   "metadata": {},
   "outputs": [],
   "source": [
    "customers_merged_activity.loc[(customers_merged_activity['Age'] >= 60) & (customers_merged_activity['fam_status'].isin (['single', 'living with parents and siblings', 'divorced/widowed'])), 'Age Profile'] = 'Single adult 60+'"
   ]
  },
  {
   "cell_type": "code",
   "execution_count": 86,
   "id": "22dff921",
   "metadata": {},
   "outputs": [],
   "source": [
    "customers_merged_activity.loc[(customers_merged_activity['Age'] <= 35) & (customers_merged_activity['fam_status'] =='married'), 'Age Profile'] = 'Married adult under 36'"
   ]
  },
  {
   "cell_type": "code",
   "execution_count": 87,
   "id": "db17b515",
   "metadata": {},
   "outputs": [],
   "source": [
    "customers_merged_activity.loc[(customers_merged_activity['Age'] > 35) & (customers_merged_activity['Age'] < 60) & (customers_merged_activity['fam_status'] =='married'), 'Age Profile'] = 'Married adult 36-59'"
   ]
  },
  {
   "cell_type": "code",
   "execution_count": 88,
   "id": "87f68742",
   "metadata": {},
   "outputs": [],
   "source": [
    "customers_merged_activity.loc[(customers_merged_activity['Age'] >= 60) & (customers_merged_activity['fam_status'] =='married'), 'Age Profile'] = 'Married adult over 60'"
   ]
  },
  {
   "cell_type": "code",
   "execution_count": 89,
   "id": "f5b2a4dd",
   "metadata": {},
   "outputs": [
    {
     "data": {
      "text/plain": [
       "Age Profile\n",
       "Married adult 36-59       8266877\n",
       "Married adult over 60     7500912\n",
       "Married adult under 36    4807953\n",
       "Single adult under 36     3462704\n",
       "Single adult 36-59        2760721\n",
       "Single adult 60+          2504114\n",
       "Name: count, dtype: int64"
      ]
     },
     "execution_count": 89,
     "metadata": {},
     "output_type": "execute_result"
    }
   ],
   "source": [
    "# check age profile value counts\n",
    "customers_merged_activity['Age Profile'].value_counts(dropna = False)"
   ]
  },
  {
   "cell_type": "code",
   "execution_count": 90,
   "id": "90671adb",
   "metadata": {},
   "outputs": [
    {
     "data": {
      "text/plain": [
       "Family Profile\n",
       "Married with dependants      20575742\n",
       "Single without dependants     7324887\n",
       "Single with dependants        1402652\n",
       "Name: count, dtype: int64"
      ]
     },
     "execution_count": 90,
     "metadata": {},
     "output_type": "execute_result"
    }
   ],
   "source": [
    "#check family profile value counts\n",
    "customers_merged_activity['Family Profile'].value_counts(dropna = False)"
   ]
  },
  {
   "cell_type": "code",
   "execution_count": 91,
   "id": "0355988a",
   "metadata": {},
   "outputs": [],
   "source": [
    "# export data as instacart final to pickle\n",
    "customers_merged_activity.to_pickle(os.path.join(path, '02 Data','Prepared Data', 'instacart_profiles.pkl'))"
   ]
  },
  {
   "cell_type": "code",
   "execution_count": null,
   "id": "38f09092",
   "metadata": {},
   "outputs": [],
   "source": []
  }
 ],
 "metadata": {
  "kernelspec": {
   "display_name": "Python 3 (ipykernel)",
   "language": "python",
   "name": "python3"
  },
  "language_info": {
   "codemirror_mode": {
    "name": "ipython",
    "version": 3
   },
   "file_extension": ".py",
   "mimetype": "text/x-python",
   "name": "python",
   "nbconvert_exporter": "python",
   "pygments_lexer": "ipython3",
   "version": "3.11.5"
  }
 },
 "nbformat": 4,
 "nbformat_minor": 5
}
