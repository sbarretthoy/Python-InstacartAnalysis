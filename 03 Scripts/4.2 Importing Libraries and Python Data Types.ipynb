{
 "cells": [
  {
   "cell_type": "markdown",
   "id": "39647dd7",
   "metadata": {},
   "source": [
    "#01. Importing libraries"
   ]
  },
  {
   "cell_type": "code",
   "execution_count": 2,
   "id": "08855524",
   "metadata": {},
   "outputs": [],
   "source": [
    "# Import libraries\n",
    "import pandas as pd\n",
    "import numpy as np\n",
    "import os"
   ]
  },
  {
   "cell_type": "markdown",
   "id": "a9c0ad39",
   "metadata": {},
   "source": [
    "#02. Data types"
   ]
  },
  {
   "cell_type": "code",
   "execution_count": 15,
   "id": "4d8bcbff",
   "metadata": {},
   "outputs": [],
   "source": [
    "#7\n",
    "x=50"
   ]
  },
  {
   "cell_type": "code",
   "execution_count": 16,
   "id": "afbd3573",
   "metadata": {},
   "outputs": [
    {
     "data": {
      "text/plain": [
       "100"
      ]
     },
     "execution_count": 16,
     "metadata": {},
     "output_type": "execute_result"
    }
   ],
   "source": [
    "x+x"
   ]
  },
  {
   "cell_type": "code",
   "execution_count": 17,
   "id": "bce1b0d6",
   "metadata": {},
   "outputs": [],
   "source": [
    "y=200"
   ]
  },
  {
   "cell_type": "code",
   "execution_count": 19,
   "id": "65450a9a",
   "metadata": {},
   "outputs": [
    {
     "data": {
      "text/plain": [
       "100"
      ]
     },
     "execution_count": 19,
     "metadata": {},
     "output_type": "execute_result"
    }
   ],
   "source": [
    "y-(x+x)"
   ]
  },
  {
   "cell_type": "code",
   "execution_count": 20,
   "id": "9c7b5cb5",
   "metadata": {},
   "outputs": [
    {
     "data": {
      "text/plain": [
       "100"
      ]
     },
     "execution_count": 20,
     "metadata": {},
     "output_type": "execute_result"
    }
   ],
   "source": [
    "y-100"
   ]
  },
  {
   "cell_type": "code",
   "execution_count": 21,
   "id": "ad253517",
   "metadata": {},
   "outputs": [],
   "source": [
    "#8\n",
    "x=2.35"
   ]
  },
  {
   "cell_type": "code",
   "execution_count": 22,
   "id": "9fb4acc7",
   "metadata": {},
   "outputs": [],
   "source": [
    "y=50.36"
   ]
  },
  {
   "cell_type": "code",
   "execution_count": 23,
   "id": "d12498f2",
   "metadata": {},
   "outputs": [
    {
     "data": {
      "text/plain": [
       "21.429787234042553"
      ]
     },
     "execution_count": 23,
     "metadata": {},
     "output_type": "execute_result"
    }
   ],
   "source": [
    "y/x"
   ]
  },
  {
   "cell_type": "code",
   "execution_count": 25,
   "id": "07fca9d7",
   "metadata": {},
   "outputs": [],
   "source": [
    "#9\n",
    "n='clo'"
   ]
  },
  {
   "cell_type": "code",
   "execution_count": 26,
   "id": "ded6e65b",
   "metadata": {},
   "outputs": [],
   "source": [
    "m='ud'"
   ]
  },
  {
   "cell_type": "code",
   "execution_count": 27,
   "id": "254c50b7",
   "metadata": {},
   "outputs": [
    {
     "data": {
      "text/plain": [
       "'cloud'"
      ]
     },
     "execution_count": 27,
     "metadata": {},
     "output_type": "execute_result"
    }
   ],
   "source": [
    "n+m"
   ]
  },
  {
   "cell_type": "code",
   "execution_count": 31,
   "id": "d54abc41",
   "metadata": {},
   "outputs": [],
   "source": [
    "#10\n",
    "r= 'I love '"
   ]
  },
  {
   "cell_type": "code",
   "execution_count": 32,
   "id": "39458fcc",
   "metadata": {},
   "outputs": [],
   "source": [
    "q= 'my dog'"
   ]
  },
  {
   "cell_type": "code",
   "execution_count": 33,
   "id": "863dbe25",
   "metadata": {},
   "outputs": [
    {
     "data": {
      "text/plain": [
       "'I love my dog'"
      ]
     },
     "execution_count": 33,
     "metadata": {},
     "output_type": "execute_result"
    }
   ],
   "source": [
    "r+q"
   ]
  },
  {
   "cell_type": "code",
   "execution_count": 34,
   "id": "5f4b5768",
   "metadata": {},
   "outputs": [],
   "source": [
    "a = 'There is not '"
   ]
  },
  {
   "cell_type": "code",
   "execution_count": 35,
   "id": "ad941189",
   "metadata": {},
   "outputs": [],
   "source": [
    "b= 'enough time '"
   ]
  },
  {
   "cell_type": "code",
   "execution_count": 36,
   "id": "bd66c768",
   "metadata": {},
   "outputs": [],
   "source": [
    "c= 'in a day'"
   ]
  },
  {
   "cell_type": "code",
   "execution_count": 37,
   "id": "6c16fce2",
   "metadata": {},
   "outputs": [
    {
     "data": {
      "text/plain": [
       "'There is not enough time in a day'"
      ]
     },
     "execution_count": 37,
     "metadata": {},
     "output_type": "execute_result"
    }
   ],
   "source": [
    "a+b+c"
   ]
  },
  {
   "cell_type": "code",
   "execution_count": 39,
   "id": "91eb493d",
   "metadata": {},
   "outputs": [],
   "source": [
    "#bonus\n",
    "n='ha'"
   ]
  },
  {
   "cell_type": "code",
   "execution_count": 40,
   "id": "2cd4f329",
   "metadata": {},
   "outputs": [
    {
     "data": {
      "text/plain": [
       "'hahahahahahahahahahahahahahahahahahahahahahahahahahahahahahahahahahahahahahahahahahahahahahahahahahahahahahahahahahahahahahahahahahahahahahahahahahahahahahahahahahahahahahahahahahahahahahahahahahahaha'"
      ]
     },
     "execution_count": 40,
     "metadata": {},
     "output_type": "execute_result"
    }
   ],
   "source": [
    "n*100"
   ]
  },
  {
   "cell_type": "code",
   "execution_count": null,
   "id": "72249061",
   "metadata": {},
   "outputs": [],
   "source": []
  }
 ],
 "metadata": {
  "kernelspec": {
   "display_name": "Python 3 (ipykernel)",
   "language": "python",
   "name": "python3"
  },
  "language_info": {
   "codemirror_mode": {
    "name": "ipython",
    "version": 3
   },
   "file_extension": ".py",
   "mimetype": "text/x-python",
   "name": "python",
   "nbconvert_exporter": "python",
   "pygments_lexer": "ipython3",
   "version": "3.11.5"
  }
 },
 "nbformat": 4,
 "nbformat_minor": 5
}
